{
 "metadata": {
  "language_info": {
   "codemirror_mode": {
    "name": "ipython",
    "version": 3
   },
   "file_extension": ".py",
   "mimetype": "text/x-python",
   "name": "python",
   "nbconvert_exporter": "python",
   "pygments_lexer": "ipython3",
   "version": 3
  },
  "orig_nbformat": 2,
  "kernelspec": {
   "name": "julia-1.4",
   "display_name": "Julia 1.4.1"
  }
 },
 "nbformat": 4,
 "nbformat_minor": 2,
 "cells": [
  {
   "source": [
    "# Interactive Julia Session in Galileo"
   ],
   "cell_type": "markdown",
   "metadata": {}
  },
  {
   "source": [
    "Galileo makes using Jupyter Notebooks as easy as running a Julia script. This short example notebook demonstrates how using a Jupyter notebook with Galileo is just like running a notebook locally."
   ],
   "cell_type": "markdown",
   "metadata": {}
  },
  {
   "cell_type": "code",
   "execution_count": null,
   "metadata": {},
   "outputs": [],
   "source": [
    "using CSV, DataFrames, GLM, StatsBase, Gadfly;"
   ]
  },
  {
   "source": [
    "### Regression Example"
   ],
   "cell_type": "markdown",
   "metadata": {}
  },
  {
   "source": [
    "Let's run a simple regression with the mtcars dataset and make a plot.\n"
   ],
   "cell_type": "markdown",
   "metadata": {}
  },
  {
   "cell_type": "code",
   "execution_count": null,
   "metadata": {},
   "outputs": [],
   "source": [
    "mtcars = DataFrame(CSV.File(\"mtcars.csv\"))\n",
    "model1 = lm(@formula(mpg ~ wt), mtcars)\n",
    "println(model1)"
   ]
  },
  {
   "cell_type": "code",
   "execution_count": null,
   "metadata": {},
   "outputs": [],
   "source": [
    "scatter_plot = layer(mtcars, x=:wt, y=:mpg, label=:model, Geom.point, Geom.label)\n",
    "predictions = hcat(ones(length(mtcars.wt)), mtcars.wt) * coef(model1);\n",
    "regression_plot = layer(x=mtcars.wt, y=predictions, Geom.line, Theme(default_color=\"red\"))\n",
    "plot(scatter_plot, regression_plot)"
   ]
  },
  {
   "source": [
    "### Monte Carlo Example"
   ],
   "cell_type": "markdown",
   "metadata": {}
  },
  {
   "source": [
    "What is the probability that the sum of rolling two fair dice is at least 7? We can work out the answer (0.583), but let's prove it with simulation. We'll write a function that simulates trials of dice throws and returns TRUE if at least 7."
   ],
   "cell_type": "markdown",
   "metadata": {}
  },
  {
   "cell_type": "code",
   "execution_count": null,
   "metadata": {},
   "outputs": [],
   "source": [
    "using Random\n",
    "Random.seed!(1800)\n",
    "\n",
    "function throws(numberDice, numberSides, targetValue, numberTrials)\n",
    "    trials = reshape(sample(1:numberSides, numberDice*numberTrials, replace=true), (numberDice, numberTrials))\n",
    "    outcomes = Vector()\n",
    "    for trial in eachcol(trials)\n",
    "        if sum(trial) >= targetValue\n",
    "            push!(outcomes, 1)\n",
    "        else\n",
    "            push!(outcomes, 0)\n",
    "        end\n",
    "    end\n",
    "    return outcomes\n",
    "end"
   ]
  },
  {
   "source": [
    "Let's try 50,000 trials, record the system time, & calculate the mean of the outcomes."
   ],
   "cell_type": "markdown",
   "metadata": {}
  },
  {
   "cell_type": "code",
   "execution_count": null,
   "metadata": {},
   "outputs": [],
   "source": [
    "@time estimate_50k = mean(throws(2, 6, 7, 50000))\n",
    "println(\"The mean is: \", estimate_50k)"
   ]
  },
  {
   "source": [
    "Pretty close but we're still a little off -- let's try 10 million throws, record the system time, & calculate the mean of the outcomes."
   ],
   "cell_type": "markdown",
   "metadata": {}
  },
  {
   "cell_type": "code",
   "execution_count": null,
   "metadata": {},
   "outputs": [],
   "source": [
    "@time estimate_10mil = mean(throws(2, 6, 7, 10000000))\n",
    "println(\"The mean is: \", estimate_10mil)"
   ]
  },
  {
   "source": [
    "As you can see, the result is much more accurate, and the run didn't take very long."
   ],
   "cell_type": "markdown",
   "metadata": {}
  },
  {
   "cell_type": "code",
   "execution_count": null,
   "metadata": {},
   "outputs": [],
   "source": []
  }
 ]
}